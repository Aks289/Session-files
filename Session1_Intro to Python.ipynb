{
 "cells": [
  {
   "cell_type": "code",
   "execution_count": null,
   "id": "b522b417",
   "metadata": {},
   "outputs": [],
   "source": [
    "# Code cell"
   ]
  },
  {
   "cell_type": "markdown",
   "id": "35f25c15",
   "metadata": {},
   "source": [
    "# Genpact Intro to Python\n",
    "### 1. Basics\n",
    "\n",
    "- data types"
   ]
  },
  {
   "cell_type": "code",
   "execution_count": 7,
   "id": "bbbd0a64",
   "metadata": {},
   "outputs": [
    {
     "name": "stdout",
     "output_type": "stream",
     "text": [
      "Hai Learners\n"
     ]
    }
   ],
   "source": [
    "print('Hai Learners') # This is a print statement"
   ]
  },
  {
   "cell_type": "code",
   "execution_count": 8,
   "id": "f9c8cfec",
   "metadata": {},
   "outputs": [],
   "source": [
    "#Alt+Enter - runs the cell and creates a new cell\n",
    "#Ctrl+Enter - runs the cell and stays in the same\n",
    "#Shift+Enter- runs and moves to the next cell,if not present, it adds a new cell."
   ]
  },
  {
   "cell_type": "code",
   "execution_count": null,
   "id": "1b9656a9",
   "metadata": {},
   "outputs": [],
   "source": [
    "# Data types\n",
    "#int,float\n",
    "#strings\n",
    "#booleans"
   ]
  },
  {
   "cell_type": "code",
   "execution_count": 12,
   "id": "ce1bf501",
   "metadata": {},
   "outputs": [
    {
     "ename": "SyntaxError",
     "evalue": "invalid syntax (3643679870.py, line 1)",
     "output_type": "error",
     "traceback": [
      "\u001b[0;36m  Input \u001b[0;32mIn [12]\u001b[0;36m\u001b[0m\n\u001b[0;31m    2a = 4\u001b[0m\n\u001b[0m     ^\u001b[0m\n\u001b[0;31mSyntaxError\u001b[0m\u001b[0;31m:\u001b[0m invalid syntax\n"
     ]
    }
   ],
   "source": [
    "2a = 4"
   ]
  },
  {
   "cell_type": "code",
   "execution_count": 10,
   "id": "32d944d6",
   "metadata": {},
   "outputs": [
    {
     "data": {
      "text/plain": [
       "int"
      ]
     },
     "execution_count": 10,
     "metadata": {},
     "output_type": "execute_result"
    }
   ],
   "source": [
    "type(a)"
   ]
  },
  {
   "cell_type": "code",
   "execution_count": 11,
   "id": "ff027f8c",
   "metadata": {},
   "outputs": [
    {
     "data": {
      "text/plain": [
       "float"
      ]
     },
     "execution_count": 11,
     "metadata": {},
     "output_type": "execute_result"
    }
   ],
   "source": [
    "abc = 10.6\n",
    "type(abc)"
   ]
  },
  {
   "cell_type": "code",
   "execution_count": 14,
   "id": "3e591f42",
   "metadata": {},
   "outputs": [],
   "source": [
    "abc_d = 7687"
   ]
  },
  {
   "cell_type": "code",
   "execution_count": 22,
   "id": "b7b0183e",
   "metadata": {},
   "outputs": [],
   "source": [
    "a=b=c = 100  # assign 100 to a,b and c"
   ]
  },
  {
   "cell_type": "code",
   "execution_count": 26,
   "id": "d0acc015",
   "metadata": {},
   "outputs": [],
   "source": [
    "x,y,z = 100,200,300 # assign multiple values to multiple variables"
   ]
  },
  {
   "cell_type": "code",
   "execution_count": 27,
   "id": "1df80f26",
   "metadata": {},
   "outputs": [
    {
     "name": "stdout",
     "output_type": "stream",
     "text": [
      "100\n",
      "200\n",
      "300\n"
     ]
    }
   ],
   "source": [
    "print(x)\n",
    "print(y)\n",
    "print(z)"
   ]
  },
  {
   "cell_type": "code",
   "execution_count": 30,
   "id": "54226823",
   "metadata": {},
   "outputs": [
    {
     "data": {
      "text/plain": [
       "str"
      ]
     },
     "execution_count": 30,
     "metadata": {},
     "output_type": "execute_result"
    }
   ],
   "source": [
    "string1 = 'Welcome to this session' \n",
    "type(string1)"
   ]
  },
  {
   "cell_type": "code",
   "execution_count": 31,
   "id": "95175f71",
   "metadata": {},
   "outputs": [
    {
     "name": "stdout",
     "output_type": "stream",
     "text": [
      "This session is 'very important'\n"
     ]
    }
   ],
   "source": [
    "print(\"This session is 'very important'\")"
   ]
  },
  {
   "cell_type": "code",
   "execution_count": 33,
   "id": "badb528b",
   "metadata": {},
   "outputs": [
    {
     "name": "stdout",
     "output_type": "stream",
     "text": [
      "This session is \"very important\"\n"
     ]
    }
   ],
   "source": [
    "print('''This session is \"very important\"''')"
   ]
  },
  {
   "cell_type": "code",
   "execution_count": null,
   "id": "8282057b",
   "metadata": {},
   "outputs": [],
   "source": [
    "# Variable name rules\n",
    "# Cannot start with a number\n",
    "# No spaces allowed in between the variable\n",
    "# Do not use reserved keywords as variable names\n",
    "# Case sensitive"
   ]
  },
  {
   "cell_type": "code",
   "execution_count": 34,
   "id": "3ae3dab0",
   "metadata": {},
   "outputs": [
    {
     "data": {
      "text/plain": [
       "bool"
      ]
     },
     "execution_count": 34,
     "metadata": {},
     "output_type": "execute_result"
    }
   ],
   "source": [
    "bt = True\n",
    "type(bt)"
   ]
  },
  {
   "cell_type": "code",
   "execution_count": 35,
   "id": "0ed4f288",
   "metadata": {},
   "outputs": [
    {
     "data": {
      "text/plain": [
       "bool"
      ]
     },
     "execution_count": 35,
     "metadata": {},
     "output_type": "execute_result"
    }
   ],
   "source": [
    "bf = False\n",
    "type(bf)"
   ]
  },
  {
   "cell_type": "code",
   "execution_count": 41,
   "id": "f19bf7a3",
   "metadata": {},
   "outputs": [
    {
     "data": {
      "text/plain": [
       "100"
      ]
     },
     "execution_count": 41,
     "metadata": {},
     "output_type": "execute_result"
    }
   ],
   "source": [
    "b"
   ]
  },
  {
   "cell_type": "code",
   "execution_count": 43,
   "id": "9ee15340",
   "metadata": {},
   "outputs": [
    {
     "name": "stdout",
     "output_type": "stream",
     "text": [
      "The value of a is: 100\n",
      "The value of a is :100 and b is 100\n",
      "The value of a is 100 and b is 100\n"
     ]
    }
   ],
   "source": [
    "print(\"The value of a is:\",a)\n",
    "print(\"The value of a is :{0} and b is {1}\".format(a,b))\n",
    "print(f'The value of a is {a} and b is {b}')"
   ]
  },
  {
   "cell_type": "code",
   "execution_count": null,
   "id": "b07532c9",
   "metadata": {},
   "outputs": [],
   "source": [
    "# Operators \n",
    "# + - add\n",
    "# - sub\n",
    "# * - multiply\n",
    "# /  division\n",
    "# // floor division\n",
    "# ** exponential\n",
    "# % modulus"
   ]
  },
  {
   "cell_type": "code",
   "execution_count": 46,
   "id": "d4769883",
   "metadata": {},
   "outputs": [
    {
     "name": "stdout",
     "output_type": "stream",
     "text": [
      "95\n",
      "83\n",
      "534\n",
      "14.833333333333334\n",
      "14\n",
      "496981290961\n",
      "5\n"
     ]
    }
   ],
   "source": [
    "a= 89\n",
    "b = 6\n",
    "print(a+b)\n",
    "print(a-b)\n",
    "print(a*b)\n",
    "print(a/b)\n",
    "print(a//b)\n",
    "print(a**b)\n",
    "print(a%b)"
   ]
  },
  {
   "cell_type": "code",
   "execution_count": 45,
   "id": "9d7890ea",
   "metadata": {},
   "outputs": [
    {
     "data": {
      "text/plain": [
       "14.833"
      ]
     },
     "execution_count": 45,
     "metadata": {},
     "output_type": "execute_result"
    }
   ],
   "source": [
    "round((a/b),3)\n",
    "#Shift+tab to check for documentation"
   ]
  },
  {
   "cell_type": "code",
   "execution_count": 47,
   "id": "45b68910",
   "metadata": {},
   "outputs": [],
   "source": [
    "# In strings\n",
    "s1 = '10'\n",
    "s2 = '30'"
   ]
  },
  {
   "cell_type": "code",
   "execution_count": 48,
   "id": "e40aaeec",
   "metadata": {},
   "outputs": [
    {
     "data": {
      "text/plain": [
       "'1030'"
      ]
     },
     "execution_count": 48,
     "metadata": {},
     "output_type": "execute_result"
    }
   ],
   "source": [
    "s1 + s2 # concatenates"
   ]
  },
  {
   "cell_type": "code",
   "execution_count": 50,
   "id": "e09e23e3",
   "metadata": {},
   "outputs": [],
   "source": [
    "#s1 - s2 # throws error"
   ]
  },
  {
   "cell_type": "code",
   "execution_count": 52,
   "id": "ec583573",
   "metadata": {},
   "outputs": [
    {
     "data": {
      "text/plain": [
       "'101010'"
      ]
     },
     "execution_count": 52,
     "metadata": {},
     "output_type": "execute_result"
    }
   ],
   "source": [
    "s1 * 3  # repeat"
   ]
  },
  {
   "cell_type": "code",
   "execution_count": 53,
   "id": "ca9ed298",
   "metadata": {},
   "outputs": [
    {
     "name": "stdout",
     "output_type": "stream",
     "text": [
      "1030\n",
      "101010\n"
     ]
    }
   ],
   "source": [
    "print(s1+s2)\n",
    "print(s1*3)"
   ]
  },
  {
   "cell_type": "code",
   "execution_count": 54,
   "id": "89a7cb77",
   "metadata": {},
   "outputs": [
    {
     "data": {
      "text/plain": [
       "'101010'"
      ]
     },
     "execution_count": 54,
     "metadata": {},
     "output_type": "execute_result"
    }
   ],
   "source": [
    "s1+s2\n",
    "s1*3"
   ]
  },
  {
   "cell_type": "code",
   "execution_count": 55,
   "id": "ed2deef0",
   "metadata": {},
   "outputs": [
    {
     "data": {
      "text/plain": [
       "20"
      ]
     },
     "execution_count": 55,
     "metadata": {},
     "output_type": "execute_result"
    }
   ],
   "source": [
    "a  = 10\n",
    "a = a+10\n",
    "a"
   ]
  },
  {
   "cell_type": "code",
   "execution_count": 56,
   "id": "7cb8d3cf",
   "metadata": {},
   "outputs": [
    {
     "data": {
      "text/plain": [
       "40.5"
      ]
     },
     "execution_count": 56,
     "metadata": {},
     "output_type": "execute_result"
    }
   ],
   "source": [
    "10 +30.5"
   ]
  },
  {
   "cell_type": "code",
   "execution_count": 59,
   "id": "59bdf249",
   "metadata": {},
   "outputs": [],
   "source": [
    "a = 20.9\n",
    "a  = int(a) "
   ]
  },
  {
   "cell_type": "code",
   "execution_count": 61,
   "id": "66e5a8f9",
   "metadata": {},
   "outputs": [],
   "source": [
    "string1 = '10abc'\n",
    "string2 = '78'"
   ]
  },
  {
   "cell_type": "code",
   "execution_count": 64,
   "id": "69c47c27",
   "metadata": {},
   "outputs": [
    {
     "data": {
      "text/plain": [
       "78"
      ]
     },
     "execution_count": 64,
     "metadata": {},
     "output_type": "execute_result"
    }
   ],
   "source": [
    "int(string2)"
   ]
  },
  {
   "cell_type": "code",
   "execution_count": 68,
   "id": "b0fa5e64",
   "metadata": {},
   "outputs": [
    {
     "data": {
      "text/plain": [
       "78.5"
      ]
     },
     "execution_count": 68,
     "metadata": {},
     "output_type": "execute_result"
    }
   ],
   "source": [
    "s1 = '78.5'\n",
    "float(s1)"
   ]
  },
  {
   "cell_type": "code",
   "execution_count": 72,
   "id": "573da77c",
   "metadata": {},
   "outputs": [
    {
     "name": "stdout",
     "output_type": "stream",
     "text": [
      "Hello, Enter your name: Akshatha\n"
     ]
    }
   ],
   "source": [
    "# take input from a user\n",
    "inp1 = input(\"Hello, Enter your name: \")"
   ]
  },
  {
   "cell_type": "code",
   "execution_count": 71,
   "id": "53362911",
   "metadata": {},
   "outputs": [
    {
     "name": "stdout",
     "output_type": "stream",
     "text": [
      "Akshatha\n"
     ]
    }
   ],
   "source": [
    "print(inp1)"
   ]
  },
  {
   "cell_type": "code",
   "execution_count": 83,
   "id": "e0418c65",
   "metadata": {},
   "outputs": [
    {
     "name": "stdout",
     "output_type": "stream",
     "text": [
      "Enter a number: 12\n",
      "22 12\n",
      "done\n"
     ]
    }
   ],
   "source": [
    "# take input from user and add it to 10 and print the result.\n",
    "inp_num = input('Enter a number: ') # accepts string as input\n",
    "# cannot add string to int\n",
    "new = int(inp_num) + 10\n",
    "print(new,inp_num)\n",
    "print('done')"
   ]
  },
  {
   "cell_type": "code",
   "execution_count": 77,
   "id": "6e7ad573",
   "metadata": {},
   "outputs": [],
   "source": [
    "# '12' +  10 # wrong "
   ]
  },
  {
   "cell_type": "code",
   "execution_count": 84,
   "id": "6e566b10",
   "metadata": {},
   "outputs": [
    {
     "data": {
      "text/plain": [
       "False"
      ]
     },
     "execution_count": 84,
     "metadata": {},
     "output_type": "execute_result"
    }
   ],
   "source": [
    "# Conditional operators\n",
    "a == b"
   ]
  },
  {
   "cell_type": "code",
   "execution_count": 85,
   "id": "c33b1124",
   "metadata": {},
   "outputs": [
    {
     "name": "stdout",
     "output_type": "stream",
     "text": [
      "True\n",
      "False\n",
      "True\n",
      "False\n",
      "True\n"
     ]
    }
   ],
   "source": [
    "print(a>b)\n",
    "print(a<b)\n",
    "print(a>= b)\n",
    "print(a<= b)\n",
    "print(a != b)"
   ]
  },
  {
   "cell_type": "code",
   "execution_count": 86,
   "id": "d095fd29",
   "metadata": {},
   "outputs": [
    {
     "name": "stdout",
     "output_type": "stream",
     "text": [
      "20 6 100\n"
     ]
    }
   ],
   "source": [
    "# Logical operators\n",
    "print(a,b,c)"
   ]
  },
  {
   "cell_type": "code",
   "execution_count": 87,
   "id": "a64aa837",
   "metadata": {},
   "outputs": [
    {
     "data": {
      "text/plain": [
       "True"
      ]
     },
     "execution_count": 87,
     "metadata": {},
     "output_type": "execute_result"
    }
   ],
   "source": [
    "a > b and a < c "
   ]
  },
  {
   "cell_type": "code",
   "execution_count": 88,
   "id": "895ed395",
   "metadata": {},
   "outputs": [
    {
     "data": {
      "text/plain": [
       "True"
      ]
     },
     "execution_count": 88,
     "metadata": {},
     "output_type": "execute_result"
    }
   ],
   "source": [
    "a <= b or a < c "
   ]
  },
  {
   "cell_type": "code",
   "execution_count": 91,
   "id": "fd1cdfa9",
   "metadata": {},
   "outputs": [
    {
     "data": {
      "text/plain": [
       "True"
      ]
     },
     "execution_count": 91,
     "metadata": {},
     "output_type": "execute_result"
    }
   ],
   "source": [
    "not a == b"
   ]
  },
  {
   "cell_type": "raw",
   "id": "2d7cf444",
   "metadata": {},
   "source": [
    "# check a whether number given by user is even or odd\n",
    "if condition :\n",
    "    <statement>\n",
    "else:\n",
    "    <statement>"
   ]
  },
  {
   "cell_type": "code",
   "execution_count": 97,
   "id": "ab7da4f7",
   "metadata": {},
   "outputs": [
    {
     "name": "stdout",
     "output_type": "stream",
     "text": [
      "enter the number : 10\n",
      "even\n"
     ]
    }
   ],
   "source": [
    "num = int(input(\"enter the number : \"))\n",
    "if num % 2 == 0 :\n",
    "    print(\"even\")\n",
    "else:\n",
    "    print(\"odd\")"
   ]
  },
  {
   "cell_type": "raw",
   "id": "ed2aa00f",
   "metadata": {},
   "source": [
    "# salary : > 1lakh - high, 40k-1lakh- med, < 40k - low\n",
    "if condition :\n",
    "    <statement>\n",
    "elif condition :\n",
    "    <statement>\n",
    "else:\n",
    "    <statement>"
   ]
  },
  {
   "cell_type": "code",
   "execution_count": 100,
   "id": "daad6815",
   "metadata": {},
   "outputs": [
    {
     "name": "stdout",
     "output_type": "stream",
     "text": [
      "450000\n",
      "High\n"
     ]
    }
   ],
   "source": [
    "sal = int(input())\n",
    "if sal < 40000:\n",
    "    print(\"Low\")\n",
    "elif sal>= 40000 and sal < 100000:\n",
    "    print(\"Medium\")\n",
    "else:\n",
    "    print(\"High\")"
   ]
  },
  {
   "cell_type": "code",
   "execution_count": 102,
   "id": "aceadea0",
   "metadata": {},
   "outputs": [
    {
     "name": "stdout",
     "output_type": "stream",
     "text": [
      "45000\n",
      "Med\n"
     ]
    }
   ],
   "source": [
    "sal = int(input())\n",
    "if sal < 40000:\n",
    "    print(\"Low\")\n",
    "elif sal < 100000:\n",
    "    if sal>=40000:\n",
    "        print(\"Med\")\n",
    "else:\n",
    "    print(\"High\")"
   ]
  },
  {
   "cell_type": "code",
   "execution_count": 106,
   "id": "367850aa",
   "metadata": {},
   "outputs": [
    {
     "name": "stdout",
     "output_type": "stream",
     "text": [
      "Enter num1: 1\n"
     ]
    }
   ],
   "source": [
    "# Largest of 3 numbers given by the user\n",
    "a = int(input())\n",
    "b = int(input())\n",
    "c = int(input())"
   ]
  },
  {
   "cell_type": "raw",
   "id": "71b7045f",
   "metadata": {},
   "source": [
    "Given an integer, n, perform the following conditional actions:\n",
    "\n",
    "If n is odd, print Weird\n",
    "If n is even and in the inclusive range of 2 to 5, print Not Weird\n",
    "If n is even and in the inclusive range of 6 to 20, print Weird\n",
    "If n is even and greater than 20, print Not Weird"
   ]
  },
  {
   "cell_type": "raw",
   "id": "bd146438",
   "metadata": {},
   "source": [
    "Write a Python program to compute the number of digits of the sum of two given integers."
   ]
  },
  {
   "cell_type": "raw",
   "id": "f9019ec5",
   "metadata": {},
   "source": [
    "Write a Python program that accepts an integer (a) and computes the value of a+aa+aaa."
   ]
  }
 ],
 "metadata": {
  "kernelspec": {
   "display_name": "Python 3 (ipykernel)",
   "language": "python",
   "name": "python3"
  },
  "language_info": {
   "codemirror_mode": {
    "name": "ipython",
    "version": 3
   },
   "file_extension": ".py",
   "mimetype": "text/x-python",
   "name": "python",
   "nbconvert_exporter": "python",
   "pygments_lexer": "ipython3",
   "version": "3.9.12"
  }
 },
 "nbformat": 4,
 "nbformat_minor": 5
}
